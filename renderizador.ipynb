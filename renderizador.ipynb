{
 "cells": [
  {
   "cell_type": "code",
   "execution_count": 1,
   "id": "18490bbd-e309-4585-95d4-27005c4b4a2f",
   "metadata": {},
   "outputs": [],
   "source": [
    "import numpy as np\n",
    "import matplotlib.pyplot as plt\n",
    "\n",
    "height = 32\n",
    "width = 32"
   ]
  },
  {
   "cell_type": "code",
   "execution_count": 51,
   "id": "6199958d-eeb8-4780-9d30-b84d3904a407",
   "metadata": {},
   "outputs": [
    {
     "data": {
      "image/png": "[encoded data removed]",
      "text/plain": [
       "<Figure size 640x480 with 1 Axes>"
      ]
     },
     "metadata": {},
     "output_type": "display_data"
    }
   ],
   "source": [
    "fig, axes = plt.subplots()\n",
    "\n",
    "frame_buffer = np.zeros((height, width))\n",
    "\n",
    "extent = (0, width, height, 0)\n",
    "\n",
    "def desenha_ponto(p):\n",
    "    x, y = p\n",
    "    frame_buffer[y][x] = 1\n",
    "\n",
    "desenha_ponto((25, 18))\n",
    "\n",
    "def desenha_linha(p0, p1):\n",
    "    x0, y0 = p0\n",
    "    x1, y1 = p1\n",
    "\n",
    "    dx = x1 - x0\n",
    "    dy = y1 - y0\n",
    "\n",
    "    if dx != 0:\n",
    "        s = dy / dx\n",
    "        v = y0\n",
    "        if x1 > x0:\n",
    "            for u in range(x0, x1 + 1):\n",
    "                desenha_ponto((u, round(v)))\n",
    "                v += s\n",
    "        else:\n",
    "            for u in range(x0, x1 - 1, -1):\n",
    "                desenha_ponto((u, round(v)))\n",
    "                v += s\n",
    "\n",
    "    else: \n",
    "        if y1 > y0:\n",
    "            for v in range(y0, y1 + 1):\n",
    "                desenha_ponto((x0, v))\n",
    "        else:\n",
    "            for v in range(y0, y1 - 1, -1):\n",
    "                desenha_ponto((x0, v))\n",
    "\n",
    "desenha_linha((15, 4), (24, 8))\n",
    "\n",
    "def calcula_l(p0, p1, p):\n",
    "    x0, y0 = p0\n",
    "    x1, y1 = p1\n",
    "    x, y = p\n",
    "    \n",
    "    l = (y1 - y0)*x - (x1 - x0)*y + y0*(x1 - x0) - x0*(y1 - y0)\n",
    "    return l\n",
    "    \n",
    "def desenha_triangulo(p0, p1, p2):\n",
    "    x0, y0 = p0\n",
    "    x1, y1 = p1\n",
    "    x2, y2 = p2\n",
    "    \n",
    "    sentido = (x2 - x0)*(y1 - y0) - (y2 - y0)*(x1 - x0)\n",
    "\n",
    "    if sentido > 0:\n",
    "        p1, p2 = p2, p1\n",
    "\n",
    "    for i in range (min(x0, x1, x2), max(x0, x1, x2) + 1):\n",
    "        for j in range (min(y0, y1, y2), max(y0, y1, y2) + 1):\n",
    "            p = (i, j)\n",
    "            l1 = calcula_l(p0, p2, p)\n",
    "            l2 = calcula_l(p2, p1, p)\n",
    "            l3 = calcula_l(p1, p0, p)\n",
    "\n",
    "            if l1 >= 0 and l2 >= 0 and l3 >= 0:\n",
    "                desenha_ponto(p)\n",
    "\n",
    "# desenha_triangulo((2,11), (11,7), (6, 2))\n",
    "# desenha_triangulo((5,28), (15,31), (23, 15))\n",
    "desenha_triangulo((5,28), (12,5), (23, 15))\n",
    "\n",
    "axes.imshow(frame_buffer, interpolation='nearest', extent=extent, cmap='gray')\n",
    "axes.grid()"
   ]
  },
  {
   "cell_type": "code",
   "execution_count": null,
   "id": "c5b241b5-9401-4e94-aa5e-2795bdbbc32c",
   "metadata": {},
   "outputs": [],
   "source": []
  }
 ],
 "metadata": {
  "kernelspec": {
   "display_name": "base",
   "language": "python",
   "name": "python3"
  },
  "language_info": {
   "codemirror_mode": {
    "name": "ipython",
    "version": 3
   },
   "file_extension": ".py",
   "mimetype": "text/x-python",
   "name": "python",
   "nbconvert_exporter": "python",
   "pygments_lexer": "ipython3",
   "version": "3.12.4"
  }
 },
 "nbformat": 4,
 "nbformat_minor": 5
}
